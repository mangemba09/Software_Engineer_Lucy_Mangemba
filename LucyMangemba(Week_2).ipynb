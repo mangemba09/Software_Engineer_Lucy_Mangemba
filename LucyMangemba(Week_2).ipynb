{
  "nbformat": 4,
  "nbformat_minor": 0,
  "metadata": {
    "colab": {
      "name": "LucyMangemba(Week_2).ipynb",
      "provenance": [],
      "collapsed_sections": []
    },
    "kernelspec": {
      "name": "python3",
      "display_name": "Python 3"
    },
    "language_info": {
      "name": "python"
    }
  },
  "cells": [
    {
      "cell_type": "code",
      "metadata": {
        "id": "QljnbXSPJdU3"
      },
      "source": [
        "#contoh contoh variabel\n",
        "a = 10 #Integer\n",
        "b = 3.14 #Float\n",
        "c = \"L\" #String\n",
        "d = 'Lucy' #String\n",
        "f = True #Boolean\n",
        "g = False #Boolean\n",
        "h = [] #List\n",
        "i = {} #Dictionary\n",
        "j = () #Tuple\n"
      ],
      "execution_count": 1,
      "outputs": []
    },
    {
      "cell_type": "code",
      "metadata": {
        "colab": {
          "base_uri": "https://localhost:8080/"
        },
        "id": "Bx6qZsqnRnYt",
        "outputId": "838e85c8-7877-445d-df91-1574841cbc8c"
      },
      "source": [
        "#print\n",
        "\n",
        "print(\"Lucy Mangemba\")\n",
        "print('hai hai')"
      ],
      "execution_count": 2,
      "outputs": [
        {
          "output_type": "stream",
          "name": "stdout",
          "text": [
            "Lucy Mangemba\n",
            "hai hai\n"
          ]
        }
      ]
    },
    {
      "cell_type": "code",
      "metadata": {
        "colab": {
          "base_uri": "https://localhost:8080/"
        },
        "id": "zOXTb0X7SXMY",
        "outputId": "567ef166-189c-49fd-e77d-30f4f181a9ed"
      },
      "source": [
        "print(2)\n",
        "print(2+3*10)"
      ],
      "execution_count": 3,
      "outputs": [
        {
          "output_type": "stream",
          "name": "stdout",
          "text": [
            "2\n",
            "32\n"
          ]
        }
      ]
    },
    {
      "cell_type": "code",
      "metadata": {
        "colab": {
          "base_uri": "https://localhost:8080/"
        },
        "id": "mrFnMQjmSh0-",
        "outputId": "0f7e98ae-fcdc-4efe-aa0e-6f143dc8b720"
      },
      "source": [
        "print(d)"
      ],
      "execution_count": 4,
      "outputs": [
        {
          "output_type": "stream",
          "name": "stdout",
          "text": [
            "Lucy\n"
          ]
        }
      ]
    },
    {
      "cell_type": "code",
      "metadata": {
        "colab": {
          "base_uri": "https://localhost:8080/"
        },
        "id": "qkNKBYV7Sydk",
        "outputId": "7446124a-65d2-4949-81bc-8e62eacf21c7"
      },
      "source": [
        "#concate\n",
        "print(\" Hai namaku \" + d)"
      ],
      "execution_count": 8,
      "outputs": [
        {
          "output_type": "stream",
          "name": "stdout",
          "text": [
            " Hai namaku Lucy\n"
          ]
        }
      ]
    },
    {
      "cell_type": "code",
      "metadata": {
        "colab": {
          "base_uri": "https://localhost:8080/"
        },
        "id": "clFWJJbnTQeM",
        "outputId": "98fe9e38-43a3-4f78-c3a5-84d4e056cbf0"
      },
      "source": [
        "print(\"Hai namaku {}\".format(d))"
      ],
      "execution_count": 12,
      "outputs": [
        {
          "output_type": "stream",
          "name": "stdout",
          "text": [
            "Hai namaku Lucy\n"
          ]
        }
      ]
    },
    {
      "cell_type": "code",
      "metadata": {
        "colab": {
          "base_uri": "https://localhost:8080/",
          "height": 213
        },
        "id": "7CDoiwJoVgPG",
        "outputId": "de28831e-76e6-4d46-ab18-813ab80d4ec2"
      },
      "source": [
        "print(\"Nilainya adalah \" + a)"
      ],
      "execution_count": 13,
      "outputs": [
        {
          "output_type": "error",
          "ename": "TypeError",
          "evalue": "ignored",
          "traceback": [
            "\u001b[0;31m---------------------------------------------------------------------------\u001b[0m",
            "\u001b[0;31mTypeError\u001b[0m                                 Traceback (most recent call last)",
            "\u001b[0;32m<ipython-input-13-a9d7f053ef2d>\u001b[0m in \u001b[0;36m<module>\u001b[0;34m()\u001b[0m\n\u001b[0;32m----> 1\u001b[0;31m \u001b[0mprint\u001b[0m\u001b[0;34m(\u001b[0m\u001b[0;34m\"Nilainya adalah \"\u001b[0m \u001b[0;34m+\u001b[0m \u001b[0ma\u001b[0m\u001b[0;34m)\u001b[0m\u001b[0;34m\u001b[0m\u001b[0;34m\u001b[0m\u001b[0m\n\u001b[0m",
            "\u001b[0;31mTypeError\u001b[0m: can only concatenate str (not \"int\") to str"
          ]
        }
      ]
    },
    {
      "cell_type": "code",
      "metadata": {
        "colab": {
          "base_uri": "https://localhost:8080/"
        },
        "id": "naf9r9XmVv5R",
        "outputId": "6048a701-ec19-4d16-88d4-8386db233a0b"
      },
      "source": [
        "print(\"Nilainya adalah \" + str(a))"
      ],
      "execution_count": 14,
      "outputs": [
        {
          "output_type": "stream",
          "name": "stdout",
          "text": [
            "Nilainya adalah 10\n"
          ]
        }
      ]
    },
    {
      "cell_type": "code",
      "metadata": {
        "colab": {
          "base_uri": "https://localhost:8080/"
        },
        "id": "IBNPdgO6V306",
        "outputId": "4900d8a0-9e8d-4853-d5e9-7f8286e1cb21"
      },
      "source": [
        "print(\"Nilainya adalah {}\".format(h))"
      ],
      "execution_count": 15,
      "outputs": [
        {
          "output_type": "stream",
          "name": "stdout",
          "text": [
            "Nilainya adalah []\n"
          ]
        }
      ]
    },
    {
      "cell_type": "code",
      "metadata": {
        "colab": {
          "base_uri": "https://localhost:8080/"
        },
        "id": "LxH8FEU3WNj3",
        "outputId": "2af9f70c-c0bd-4f9a-f52f-d452bcdbcc16"
      },
      "source": [
        "print(\"Namaku {}, Nilai Ujianku {}, dan aku orang Toraja {}\".format(d,a,f))"
      ],
      "execution_count": 16,
      "outputs": [
        {
          "output_type": "stream",
          "name": "stdout",
          "text": [
            "Namaku Lucy, Nilai Ujianku 10, dan aku orang Toraja True\n"
          ]
        }
      ]
    },
    {
      "cell_type": "code",
      "metadata": {
        "id": "fQOwYtO_WcLN"
      },
      "source": [
        "Sekolah = [\"Kelas\", 10, True, 3.14, [\"Yasmin\",\"Hafsah\",\"Lucy\"], {\"Hewan\":\"Gajah\"}]"
      ],
      "execution_count": 18,
      "outputs": []
    },
    {
      "cell_type": "code",
      "metadata": {
        "colab": {
          "base_uri": "https://localhost:8080/"
        },
        "id": "nfyjVCsAW9OX",
        "outputId": "fccb002c-2db9-494b-f2fc-5566031dc926"
      },
      "source": [
        "print(Sekolah)"
      ],
      "execution_count": 19,
      "outputs": [
        {
          "output_type": "stream",
          "name": "stdout",
          "text": [
            "['Kelas', 10, True, 3.14, ['Yasmin', 'Hafsah', 'Lucy'], {'Hewan': 'Gajah'}]\n"
          ]
        }
      ]
    },
    {
      "cell_type": "code",
      "metadata": {
        "colab": {
          "base_uri": "https://localhost:8080/"
        },
        "id": "p_PvCsAKXP2h",
        "outputId": "b697c87b-1306-44e8-f8a6-50fe8b320dd4"
      },
      "source": [
        "Sekolah[0:5:2]"
      ],
      "execution_count": 20,
      "outputs": [
        {
          "output_type": "execute_result",
          "data": {
            "text/plain": [
              "['Kelas', True, ['Yasmin', 'Hafsah', 'Lucy']]"
            ]
          },
          "metadata": {},
          "execution_count": 20
        }
      ]
    },
    {
      "cell_type": "code",
      "metadata": {
        "colab": {
          "base_uri": "https://localhost:8080/",
          "height": 36
        },
        "id": "HgtIATr6Xl69",
        "outputId": "6cd5dbcc-5b7c-4345-f5be-1d83c4476a1d"
      },
      "source": [
        "Sekolah[0]"
      ],
      "execution_count": 21,
      "outputs": [
        {
          "output_type": "execute_result",
          "data": {
            "application/vnd.google.colaboratory.intrinsic+json": {
              "type": "string"
            },
            "text/plain": [
              "'Kelas'"
            ]
          },
          "metadata": {},
          "execution_count": 21
        }
      ]
    },
    {
      "cell_type": "code",
      "metadata": {
        "colab": {
          "base_uri": "https://localhost:8080/"
        },
        "id": "osjL-vfBXtHZ",
        "outputId": "97bab67d-ace4-45f3-f3f2-df2e8eadce40"
      },
      "source": [
        "Sekolah[4]"
      ],
      "execution_count": 22,
      "outputs": [
        {
          "output_type": "execute_result",
          "data": {
            "text/plain": [
              "['Yasmin', 'Hafsah', 'Lucy']"
            ]
          },
          "metadata": {},
          "execution_count": 22
        }
      ]
    },
    {
      "cell_type": "code",
      "metadata": {
        "colab": {
          "base_uri": "https://localhost:8080/",
          "height": 36
        },
        "id": "ivmEo9DvXytO",
        "outputId": "dc05583b-9782-4f6c-8e13-78e9738a4035"
      },
      "source": [
        "Sekolah[4][0]"
      ],
      "execution_count": 23,
      "outputs": [
        {
          "output_type": "execute_result",
          "data": {
            "application/vnd.google.colaboratory.intrinsic+json": {
              "type": "string"
            },
            "text/plain": [
              "'Yasmin'"
            ]
          },
          "metadata": {},
          "execution_count": 23
        }
      ]
    },
    {
      "cell_type": "code",
      "metadata": {
        "colab": {
          "base_uri": "https://localhost:8080/",
          "height": 36
        },
        "id": "6zq-h9s-Xzq1",
        "outputId": "d0ebb1b6-a9e4-4782-f283-73b92e75ba2e"
      },
      "source": [
        "Sekolah[-1][\"Hewan\"]"
      ],
      "execution_count": 24,
      "outputs": [
        {
          "output_type": "execute_result",
          "data": {
            "application/vnd.google.colaboratory.intrinsic+json": {
              "type": "string"
            },
            "text/plain": [
              "'Gajah'"
            ]
          },
          "metadata": {},
          "execution_count": 24
        }
      ]
    },
    {
      "cell_type": "code",
      "metadata": {
        "id": "_gAnU4MMYBJQ"
      },
      "source": [
        "Nama_Siswa = [\"Yasmin\",\"Hafsah\",\"Lucy\",\"Budi\", \"Said\", \"Ucy\",\"Siti\"]"
      ],
      "execution_count": 41,
      "outputs": []
    },
    {
      "cell_type": "code",
      "metadata": {
        "id": "F1NtQ-53gORC"
      },
      "source": [
        ""
      ],
      "execution_count": null,
      "outputs": []
    },
    {
      "cell_type": "code",
      "metadata": {
        "colab": {
          "base_uri": "https://localhost:8080/",
          "height": 36
        },
        "id": "S6gN-u-4ZtTJ",
        "outputId": "000ceb26-4f62-4e03-bf3c-1094d0f306cf"
      },
      "source": [
        "Nama_Siswa[-2]"
      ],
      "execution_count": 35,
      "outputs": [
        {
          "output_type": "execute_result",
          "data": {
            "application/vnd.google.colaboratory.intrinsic+json": {
              "type": "string"
            },
            "text/plain": [
              "'Ucy'"
            ]
          },
          "metadata": {},
          "execution_count": 35
        }
      ]
    },
    {
      "cell_type": "code",
      "metadata": {
        "colab": {
          "base_uri": "https://localhost:8080/"
        },
        "id": "RueWkaBwbH6I",
        "outputId": "da65d292-9b32-45a6-a1c9-1de5c3209153"
      },
      "source": [
        "Nama_Siswa[0:-1:3]"
      ],
      "execution_count": 40,
      "outputs": [
        {
          "output_type": "execute_result",
          "data": {
            "text/plain": [
              "['Yasmin', 'Budi']"
            ]
          },
          "metadata": {},
          "execution_count": 40
        }
      ]
    },
    {
      "cell_type": "code",
      "metadata": {
        "colab": {
          "base_uri": "https://localhost:8080/"
        },
        "id": "fjCF-Mc6YW-F",
        "outputId": "cbf17a34-8bc6-4ed6-946b-3e1103e8ebe3"
      },
      "source": [
        "# List Slicing\n",
        "Nama_Siswa[2:5] #2,3,4"
      ],
      "execution_count": 26,
      "outputs": [
        {
          "output_type": "execute_result",
          "data": {
            "text/plain": [
              "['Lucy', 'Budi', 'Said']"
            ]
          },
          "metadata": {},
          "execution_count": 26
        }
      ]
    },
    {
      "cell_type": "code",
      "metadata": {
        "colab": {
          "base_uri": "https://localhost:8080/"
        },
        "id": "EmYYYrk-Yjwu",
        "outputId": "612b23f1-5843-4196-e237-446a8136cbc6"
      },
      "source": [
        "Nama_Siswa[3:-1]"
      ],
      "execution_count": 27,
      "outputs": [
        {
          "output_type": "execute_result",
          "data": {
            "text/plain": [
              "['Budi', 'Said', 'Ucy']"
            ]
          },
          "metadata": {},
          "execution_count": 27
        }
      ]
    },
    {
      "cell_type": "code",
      "metadata": {
        "colab": {
          "base_uri": "https://localhost:8080/"
        },
        "id": "bERWLqG5Yzz_",
        "outputId": "a7b75391-75fb-4b6e-957d-4af8e515325f"
      },
      "source": [
        "Nama_Siswa[-2:]"
      ],
      "execution_count": 28,
      "outputs": [
        {
          "output_type": "execute_result",
          "data": {
            "text/plain": [
              "['Ucy', 'Siti']"
            ]
          },
          "metadata": {},
          "execution_count": 28
        }
      ]
    },
    {
      "cell_type": "code",
      "metadata": {
        "colab": {
          "base_uri": "https://localhost:8080/"
        },
        "id": "Ad6eIfZvY_GK",
        "outputId": "dc3a18ad-ea3e-4fa9-84ad-20d8f2cebfe6"
      },
      "source": [
        "Nama_Siswa[-3:]"
      ],
      "execution_count": 29,
      "outputs": [
        {
          "output_type": "execute_result",
          "data": {
            "text/plain": [
              "['Said', 'Ucy', 'Siti']"
            ]
          },
          "metadata": {},
          "execution_count": 29
        }
      ]
    },
    {
      "cell_type": "code",
      "metadata": {
        "id": "AbmxWSgTZLNz"
      },
      "source": [
        "#Dictionary\n",
        "\n",
        "Dict1 = {\"Hewan\":\"Gajah\", 0:22, \"Boolean\":\"Benar\"}"
      ],
      "execution_count": 31,
      "outputs": []
    },
    {
      "cell_type": "code",
      "metadata": {
        "colab": {
          "base_uri": "https://localhost:8080/",
          "height": 36
        },
        "id": "ix1agHySZYhS",
        "outputId": "29ef71b9-9a51-4866-98e5-215d73c889f9"
      },
      "source": [
        "Dict1[\"Hewan\"]"
      ],
      "execution_count": 32,
      "outputs": [
        {
          "output_type": "execute_result",
          "data": {
            "application/vnd.google.colaboratory.intrinsic+json": {
              "type": "string"
            },
            "text/plain": [
              "'Gajah'"
            ]
          },
          "metadata": {},
          "execution_count": 32
        }
      ]
    },
    {
      "cell_type": "code",
      "metadata": {
        "colab": {
          "base_uri": "https://localhost:8080/"
        },
        "id": "c_T1kVz5ZiXG",
        "outputId": "d7ff266a-36b4-4930-c29e-1e93bf8c24bf"
      },
      "source": [
        "Dict1[0]"
      ],
      "execution_count": 33,
      "outputs": [
        {
          "output_type": "execute_result",
          "data": {
            "text/plain": [
              "22"
            ]
          },
          "metadata": {},
          "execution_count": 33
        }
      ]
    },
    {
      "cell_type": "code",
      "metadata": {
        "id": "JDmc-HZ_gSOO"
      },
      "source": [
        "Dict2 = {\"Hewan\":0}"
      ],
      "execution_count": 42,
      "outputs": []
    },
    {
      "cell_type": "code",
      "metadata": {
        "colab": {
          "base_uri": "https://localhost:8080/"
        },
        "id": "xYliTjw_gcev",
        "outputId": "743e408a-7447-44fa-920d-ed3bdc5cebe7"
      },
      "source": [
        "Dict2[\"Hewan\"]"
      ],
      "execution_count": 43,
      "outputs": [
        {
          "output_type": "execute_result",
          "data": {
            "text/plain": [
              "0"
            ]
          },
          "metadata": {},
          "execution_count": 43
        }
      ]
    }
  ]
}