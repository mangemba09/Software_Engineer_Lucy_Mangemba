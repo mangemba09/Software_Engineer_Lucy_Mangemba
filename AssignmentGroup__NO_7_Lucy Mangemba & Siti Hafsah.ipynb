{
  "nbformat": 4,
  "nbformat_minor": 0,
  "metadata": {
    "colab": {
      "name": "AssignmentGroup__NO:7_SitiHafsah&LucyMangembaipynb",
      "provenance": []
    },
    "kernelspec": {
      "name": "python3",
      "display_name": "Python 3"
    },
    "language_info": {
      "name": "python"
    }
  },
  "cells": [
    {
      "cell_type": "markdown",
      "metadata": {
        "id": "NQNX2jMQEIqh"
      },
      "source": [
        "NO 7\n",
        "\n",
        "**Temukan nilai positive terkecil yang habis di bagi oleh semua nomor dari 1 sampai 20** \n"
      ]
    },
    {
      "cell_type": "code",
      "metadata": {
        "id": "JsNPOn1xEyz_"
      },
      "source": [
        "# tell if a number is divisible by 1 to 20\n",
        "def isDivisible1to20(number):\n",
        "  for i in range(1, 21):\n",
        "    if number % i != 0:\n",
        "      return False\n",
        "  return True"
      ],
      "execution_count": 1,
      "outputs": []
    },
    {
      "cell_type": "code",
      "metadata": {
        "id": "WwNIbjhwH-CU"
      },
      "source": [
        ""
      ],
      "execution_count": null,
      "outputs": []
    },
    {
      "cell_type": "code",
      "metadata": {
        "colab": {
          "base_uri": "https://localhost:8080/"
        },
        "id": "1N9S70YsE3KB",
        "outputId": "db8b2ecc-d86e-4431-94f5-1d81c257a741"
      },
      "source": [
        "#starting number 1, check if it's divisible by 1 to 20\n",
        "number = 1\n",
        "while True:\n",
        "  if isDivisible1to20(number):\n",
        "    break\n",
        "  number += 1 #increment number\n",
        "\n",
        "#if we've found the number, stop\n",
        "print(number)"
      ],
      "execution_count": 2,
      "outputs": [
        {
          "output_type": "stream",
          "name": "stdout",
          "text": [
            "232792560\n"
          ]
        }
      ]
    }
  ]
}